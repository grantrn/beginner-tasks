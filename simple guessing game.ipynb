{
 "cells": [
  {
   "cell_type": "code",
   "execution_count": null,
   "metadata": {},
   "outputs": [],
   "source": [
    "number = 5 \n",
    "guess = \" \"\n",
    "guess_count = 0\n",
    "guess_limit = 5 "
   ]
  },
  {
   "cell_type": "code",
   "execution_count": null,
   "metadata": {},
   "outputs": [],
   "source": [
    "while guess != number:\n",
    "        guess = int(input(\"enter a guess: \"))\n",
    "        guess_count += 1\n",
    "    \n",
    "        if guess > number:\n",
    "            print(\"your guess is too high, try again\")\n",
    "        if number > guess:\n",
    "            print(\"your guess is too low, try again\")\n",
    "        if guess == number:\n",
    "            print(\"you guessed correctly\")\n",
    "        if guess_count == 4:\n",
    "            print(\"YOU HAVE ONE GUESS LEFT!!\")\n",
    "        if guess_count == 5:\n",
    "            print(\"GAME OVER\")\n",
    "            break\n"
   ]
  },
  {
   "cell_type": "code",
   "execution_count": null,
   "metadata": {},
   "outputs": [],
   "source": []
  },
  {
   "cell_type": "code",
   "execution_count": null,
   "metadata": {},
   "outputs": [],
   "source": []
  }
 ],
 "metadata": {
  "kernelspec": {
   "display_name": "Python 3",
   "language": "python",
   "name": "python3"
  },
  "language_info": {
   "codemirror_mode": {
    "name": "ipython",
    "version": 3
   },
   "file_extension": ".py",
   "mimetype": "text/x-python",
   "name": "python",
   "nbconvert_exporter": "python",
   "pygments_lexer": "ipython3",
   "version": "3.8.3"
  }
 },
 "nbformat": 4,
 "nbformat_minor": 4
}
