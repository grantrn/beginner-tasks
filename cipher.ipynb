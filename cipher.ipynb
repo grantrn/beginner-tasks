{
 "cells": [
  {
   "cell_type": "code",
   "execution_count": null,
   "metadata": {},
   "outputs": [],
   "source": [
    "alphabet = ['a', 'b', 'c', 'd', 'e', 'f', 'g', 'h', 'i', 'j', 'k', 'l', 'm', 'n', 'o', 'p', 'q', 'r', 's', 't', 'u', 'v', 'w', 'x', 'y', 'z', 'a', 'b', 'c', 'd', 'e', 'f', 'g', 'h', 'i', 'j', 'k', 'l', 'm', 'n', 'o', 'p', 'q', 'r', 's', 't', 'u', 'v', 'w', 'x', 'y', 'z']\n",
    "\n",
    "direction = input(\"Type 'encode' to encrypt, type 'decode' to decrypt:\\n\")\n",
    "text = input(\"Type your message:\\n\").lower()\n",
    "shift = int(input(\"Type the shift number:\\n\"))\n",
    "\n",
    "def decipher(text, shift):\n",
    "    cipher_text = \"\"\n",
    "    decoded_text = \"\"\n",
    "    \n",
    "    if direction == 'encode':\n",
    "        for letter in text:\n",
    "            position = alphabet.index(letter)\n",
    "            new_position = position + shift\n",
    "            cipher_text += alphabet[new_position]\n",
    "        print(f\"The encoded text is {cipher_text}\")\n",
    "        \n",
    "        \n",
    "    elif direction == 'decode':\n",
    "        for letter in text:\n",
    "            position = alphabet.index(letter)\n",
    "            new_position = position - shift\n",
    "            decoded_text += alphabet[new_position]\n",
    "        print(f\"The decoded text is {decoded_text}\")\n",
    "\n",
    "decipher(text, shift)"
   ]
  },
  {
   "cell_type": "code",
   "execution_count": null,
   "metadata": {},
   "outputs": [],
   "source": []
  }
 ],
 "metadata": {
  "kernelspec": {
   "display_name": "Python 3",
   "language": "python",
   "name": "python3"
  },
  "language_info": {
   "codemirror_mode": {
    "name": "ipython",
    "version": 3
   },
   "file_extension": ".py",
   "mimetype": "text/x-python",
   "name": "python",
   "nbconvert_exporter": "python",
   "pygments_lexer": "ipython3",
   "version": "3.8.3"
  }
 },
 "nbformat": 4,
 "nbformat_minor": 4
}
