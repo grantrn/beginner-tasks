{
 "cells": [
  {
   "cell_type": "code",
   "execution_count": null,
   "metadata": {},
   "outputs": [],
   "source": [
    "print(\"Welcome to the tip calculator.\")\n",
    "bill = float(input(\"What was the total bill?\" ))\n",
    "people = int(input(\"How many people to split the bill?\" ))\n",
    "percentage = input(\"What percentage would you like to tip? 10, 12 or 15?\" )\n",
    "\n",
    "ten = (bill + (0.10 * bill)) / people\n",
    "twelve = (bill +(0.12 * bill)) / people\n",
    "fifteen =(bill +(0.15 * bill)) / people\n",
    "\n",
    "if percentage == ten:\n",
    "    print(f'{ten:.1f}')\n",
    "elif percentage == twelve:\n",
    "    print(f'{twelve:.1f}')\n",
    "else:\n",
    "    print(f'{fifteen:.1f}')"
   ]
  }
 ],
 "metadata": {
  "kernelspec": {
   "display_name": "Python 3",
   "language": "python",
   "name": "python3"
  },
  "language_info": {
   "codemirror_mode": {
    "name": "ipython",
    "version": 3
   },
   "file_extension": ".py",
   "mimetype": "text/x-python",
   "name": "python",
   "nbconvert_exporter": "python",
   "pygments_lexer": "ipython3",
   "version": "3.8.3"
  }
 },
 "nbformat": 4,
 "nbformat_minor": 4
}
