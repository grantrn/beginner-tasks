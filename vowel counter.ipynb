{
 "cells": [
  {
   "cell_type": "code",
   "execution_count": 20,
   "metadata": {},
   "outputs": [
    {
     "name": "stdout",
     "output_type": "stream",
     "text": [
      "'a' appears this many times: 1\n",
      "'e' appears this many times: 3\n",
      "'i' appears this many times: 1\n",
      "'o' appears this many times: 4\n",
      "'u' appears this many times: 2\n"
     ]
    }
   ],
   "source": [
    "#Count Vowels - Enter a string and the program counts the number of vowels in the text. For added complexity have it report a sum of each vowel found.\n",
    "\n",
    "value1 = 'a'\n",
    "value2 = 'e'\n",
    "value3 = 'i'\n",
    "value4 = \"o\"\n",
    "value5 = \"u\"\n",
    "\n",
    "\n",
    "count1 = 0\n",
    "count2 = 0\n",
    "count3 = 0\n",
    "count4 = 0\n",
    "count5 = 0\n",
    "\n",
    "sentence = \"the quick brown fox jumps over the lazy dog\"\n",
    "\n",
    "for letters in sentence:\n",
    "    if letters == value1:\n",
    "        count1 += 1\n",
    "    elif letters == value2:\n",
    "        count2 += 1\n",
    "    elif letters == value3:\n",
    "        count3 += 1\n",
    "    elif letters == value4:\n",
    "        count4 += 1\n",
    "    elif letters == value5:\n",
    "        count5 += 1\n",
    "        \n",
    "print(f\"'a' appears this many times: {count1}\")\n",
    "print(f\"'e' appears this many times: {count2}\")\n",
    "print(f\"'i' appears this many times: {count3}\")\n",
    "print(f\"'o' appears this many times: {count4}\")\n",
    "print(f\"'u' appears this many times: {count5}\")"
   ]
  },
  {
   "cell_type": "code",
   "execution_count": null,
   "metadata": {},
   "outputs": [],
   "source": []
  },
  {
   "cell_type": "code",
   "execution_count": null,
   "metadata": {},
   "outputs": [],
   "source": []
  }
 ],
 "metadata": {
  "kernelspec": {
   "display_name": "Python 3",
   "language": "python",
   "name": "python3"
  },
  "language_info": {
   "codemirror_mode": {
    "name": "ipython",
    "version": 3
   },
   "file_extension": ".py",
   "mimetype": "text/x-python",
   "name": "python",
   "nbconvert_exporter": "python",
   "pygments_lexer": "ipython3",
   "version": "3.8.3"
  }
 },
 "nbformat": 4,
 "nbformat_minor": 4
}
