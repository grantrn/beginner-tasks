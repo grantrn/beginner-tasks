{
 "cells": [
  {
   "cell_type": "code",
   "execution_count": null,
   "metadata": {},
   "outputs": [],
   "source": [
    "import requests\n",
    "\n",
    "def recipe_search(ingredient, diet, health):\n",
    "    app_id= '9faba4be'\n",
    "    app_key = '0b2e438f001911bfb8bbb24baa8dac41'\n",
    "    url = f'https://api.edamam.com/search?q={ingredient}&app_id={app_id}&app_key={app_key}&diet={diet}'\n",
    "\n",
    "    response = requests.get(url)\n",
    "\n",
    "    data = response.json()\n",
    "    return data['hits']\n",
    "\n",
    "\n",
    "def run():\n",
    "    ingredient = input('Enter one or more ingredient: ')\n",
    "    diet = input('Enter diet requirement (e.g balanced/high-protein/ low-fat/ low-carbs) : ')\n",
    "    \n",
    "    options = {'y':'yes','n':'no'}\n",
    "    choice = input(\"Do you have a health requirement? (Y/N) \").lower()\n",
    "\n",
    "    while choice not in options: \n",
    "        choice = input(\"Please enter either 'Y' or 'N' \") \n",
    "    if choice == 'y':\n",
    "        health = input('Enter your health requirement (e.g vegetarian/dairy-free): ')\n",
    "    else:\n",
    "        health = 'standard'\n",
    "    \n",
    "    \n",
    "    results = recipe_search(ingredient, diet, health)\n",
    "    print()\n",
    "    print(f\"The following recipes contain(s) {ingredient} and gives you a {diet} diet and is suitable for a {health} diet\")\n",
    "\n",
    "    for result in results:\n",
    "        recipe = result['recipe']\n",
    "  \n",
    "        print()\n",
    "        print(recipe['label'])\n",
    "        print(recipe['url'])  \n",
    "        print(\"This recipe contains \" +  str(int(recipe['calories'])) + \" calories\")\n",
    "        print(\"Produces \" + str(int(recipe['yield'])) + \" servings\")\n",
    "\n",
    "\n",
    "run()"
   ]
  },
  {
   "cell_type": "code",
   "execution_count": null,
   "metadata": {},
   "outputs": [],
   "source": []
  }
 ],
 "metadata": {
  "kernelspec": {
   "display_name": "Python 3",
   "language": "python",
   "name": "python3"
  },
  "language_info": {
   "codemirror_mode": {
    "name": "ipython",
    "version": 3
   },
   "file_extension": ".py",
   "mimetype": "text/x-python",
   "name": "python",
   "nbconvert_exporter": "python",
   "pygments_lexer": "ipython3",
   "version": "3.8.3"
  }
 },
 "nbformat": 4,
 "nbformat_minor": 4
}
